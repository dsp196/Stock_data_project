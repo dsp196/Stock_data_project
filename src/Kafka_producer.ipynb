{
 "cells": [
  {
   "cell_type": "code",
   "execution_count": 12,
   "metadata": {},
   "outputs": [],
   "source": [
    "import os\n",
    "import requests\n",
    "from confluent_kafka import Producer\n",
    "import time\n",
    "from azure.identity import DefaultAzureCredential\n",
    "from azure.keyvault.secrets import SecretClient\n"
   ]
  },
  {
   "cell_type": "code",
   "execution_count": 13,
   "metadata": {},
   "outputs": [],
   "source": [
    "\n",
    "KEY_VAULT_NAME = \"databkeys\"\n",
    "\n",
    "KY_URI =f'https://databkeys.vault.azure.net/'"
   ]
  },
  {
   "cell_type": "code",
   "execution_count": 14,
   "metadata": {},
   "outputs": [],
   "source": [
    "credential = DefaultAzureCredential()\n"
   ]
  },
  {
   "cell_type": "code",
   "execution_count": 15,
   "metadata": {},
   "outputs": [],
   "source": [
    "secret_client = SecretClient(vault_url=KY_URI, credential=credential)\n"
   ]
  },
  {
   "cell_type": "code",
   "execution_count": 16,
   "metadata": {},
   "outputs": [],
   "source": [
    "azure_key_vault_vals = ['FINNHUB','Eventhub']"
   ]
  },
  {
   "cell_type": "code",
   "execution_count": 20,
   "metadata": {},
   "outputs": [],
   "source": [
    "FINNHUB_API_KEY,CONNECTION_STRING = [secret_client.get_secret(val).value for val in azure_key_vault_vals]"
   ]
  },
  {
   "cell_type": "code",
   "execution_count": 21,
   "metadata": {},
   "outputs": [
    {
     "name": "stdout",
     "output_type": "stream",
     "text": [
      "ct9kfs1r01quh43o9jl0ct9kfs1r01quh43o9jlg\n"
     ]
    }
   ],
   "source": [
    "print(FINNHUB_API_KEY)"
   ]
  },
  {
   "cell_type": "code",
   "execution_count": 22,
   "metadata": {},
   "outputs": [],
   "source": [
    "EVENTHUB_NAMESPACE = \"eh-namespace-stock-data.servicebus.windows.net:9093\"\n",
    "EVENTHUB_TOPIC = \"eh-stock-data\"  # Replace with your Event Hub name\n",
    "SYMBOL = \"AAPL\"  # Stock symbol to track\n",
    "INTERVAL = 30"
   ]
  },
  {
   "cell_type": "code",
   "execution_count": 23,
   "metadata": {},
   "outputs": [],
   "source": [
    "conf = {\n",
    "    'bootstrap.servers': EVENTHUB_NAMESPACE,\n",
    "    'security.protocol': 'SASL_SSL',\n",
    "    'sasl.mechanism': 'PLAIN',\n",
    "    'sasl.username': '$ConnectionString',\n",
    "    'sasl.password': CONNECTION_STRING,\n",
    "    'client.id': 'stock-data-producer'\n",
    "}"
   ]
  },
  {
   "cell_type": "code",
   "execution_count": 24,
   "metadata": {},
   "outputs": [],
   "source": [
    "def delivery_report(err, msg):\n",
    "    if err is not None:\n",
    "        print(f\"Message delivery failed: {err}\")\n",
    "    else:\n",
    "        print(f\"Message delivered to {msg.topic()} [partition {msg.partition()}]\")"
   ]
  },
  {
   "cell_type": "code",
   "execution_count": 25,
   "metadata": {},
   "outputs": [],
   "source": [
    "producer = Producer(conf)\n"
   ]
  },
  {
   "cell_type": "code",
   "execution_count": 26,
   "metadata": {},
   "outputs": [
    {
     "name": "stdout",
     "output_type": "stream",
     "text": [
      "Message delivered to eh-stock-data [partition 0]\n"
     ]
    },
    {
     "data": {
      "text/plain": [
       "0"
      ]
     },
     "execution_count": 26,
     "metadata": {},
     "output_type": "execute_result"
    }
   ],
   "source": [
    "producer.produce('eh-stock-data', value=\"This is sample message!\", callback=delivery_report)\n",
    "producer.flush(10)  # This ensures the message is actually sent and the callback is triggered\n"
   ]
  },
  {
   "cell_type": "code",
   "execution_count": 27,
   "metadata": {},
   "outputs": [],
   "source": [
    "def fetch_stock_data(symbol):\n",
    "    \"\"\"Fetch current stock quote data from Finnhub.\"\"\"\n",
    "    url = f\"https://finnhub.io/api/v1/quote?symbol={symbol}&token={FINNHUB_API_KEY}\"\n",
    "    response = requests.get(url)\n",
    "    if response.status_code == 200:\n",
    "        return response.json()\n",
    "    else:\n",
    "        print(f\"Failed to fetch data for {symbol}. Status: {response.status_code}, Response: {response.text}\")\n",
    "        return None"
   ]
  },
  {
   "cell_type": "code",
   "execution_count": 28,
   "metadata": {},
   "outputs": [],
   "source": [
    "def main():\n",
    "    print(f\"Starting stock data streaming for {SYMBOL} every {INTERVAL} seconds.\")\n",
    "    print(\"Press Ctrl+C to stop.\")\n",
    "\n",
    "    try:\n",
    "        while True:\n",
    "            data = fetch_stock_data(SYMBOL)\n",
    "            if data:\n",
    "                # Convert the JSON data to string for sending\n",
    "                message_value = str(data)\n",
    "                print(f\"Fetched data for {SYMBOL}: {message_value}\")\n",
    "\n",
    "                # Produce the message to the Event Hub (as a Kafka topic)\n",
    "                producer.produce(EVENTHUB_TOPIC, value=message_value, callback=delivery_report)\n",
    "                \n",
    "                # Ensure all messages are sent before next iteration\n",
    "                producer.flush(10)\n",
    "            \n",
    "            # Wait for the next iteration\n",
    "            time.sleep(INTERVAL)\n",
    "\n",
    "    except KeyboardInterrupt:\n",
    "        print(\"Streaming interrupted by user. Exiting...\")\n",
    "    finally:\n",
    "        # Flush any remaining messages\n",
    "        producer.flush(10)\n",
    "        print(\"Stopped streaming.\")"
   ]
  },
  {
   "cell_type": "code",
   "execution_count": 29,
   "metadata": {},
   "outputs": [
    {
     "name": "stdout",
     "output_type": "stream",
     "text": [
      "Starting stock data streaming for AAPL every 30 seconds.\n",
      "Press Ctrl+C to stop.\n",
      "Fetched data for AAPL: {'c': 242.84, 'd': -0.2, 'dp': -0.0823, 'h': 244.63, 'l': 242.08, 'o': 242.905, 'pc': 243.04, 't': 1733605200}\n",
      "Message delivered to eh-stock-data [partition 0]\n",
      "Fetched data for AAPL: {'c': 242.84, 'd': -0.2, 'dp': -0.0823, 'h': 244.63, 'l': 242.08, 'o': 242.905, 'pc': 243.04, 't': 1733605200}\n",
      "Message delivered to eh-stock-data [partition 0]\n",
      "Streaming interrupted by user. Exiting...\n",
      "Stopped streaming.\n"
     ]
    }
   ],
   "source": [
    "if __name__ == \"__main__\":\n",
    "    main()"
   ]
  },
  {
   "cell_type": "code",
   "execution_count": null,
   "metadata": {},
   "outputs": [],
   "source": []
  }
 ],
 "metadata": {
  "kernelspec": {
   "display_name": "base",
   "language": "python",
   "name": "python3"
  },
  "language_info": {
   "codemirror_mode": {
    "name": "ipython",
    "version": 3
   },
   "file_extension": ".py",
   "mimetype": "text/x-python",
   "name": "python",
   "nbconvert_exporter": "python",
   "pygments_lexer": "ipython3",
   "version": "3.9.13"
  }
 },
 "nbformat": 4,
 "nbformat_minor": 2
}
